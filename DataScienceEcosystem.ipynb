{
 "cells": [
  {
   "cell_type": "markdown",
   "id": "7275881f-6bd5-47d1-b8e1-1a9f68dcb856",
   "metadata": {},
   "source": [
    "# Data Science Tools and Ecosystem"
   ]
  },
  {
   "cell_type": "markdown",
   "id": "e0868ac2-1482-4ce2-8ab3-773233395e08",
   "metadata": {},
   "source": [
    "In this notebook, Data Science Tools and Ecosystem are summarized."
   ]
  },
  {
   "cell_type": "markdown",
   "id": "4ebce77d-b71e-4bb2-9093-fbb09687ac0c",
   "metadata": {},
   "source": [
    "**Objectives**\n",
    "\n",
    "- Data Science Languages\n",
    "- Data Science Libraries\n",
    "- Expressions in Python"
   ]
  },
  {
   "cell_type": "markdown",
   "id": "a122cddf-1769-4791-b10e-dcd1c22b0e8d",
   "metadata": {},
   "source": [
    "Some of the popular languages that Data Scientist use are:\n",
    "\n",
    "1. Python\n",
    "2. R\n",
    "3. C++\n",
    "4. Java\n",
    "5. Scala"
   ]
  },
  {
   "cell_type": "markdown",
   "id": "08513a42-918a-47d9-a9a4-d180eb9e18ed",
   "metadata": {},
   "source": [
    "Some of the commonly used libraries used by Data Scientists include:\n",
    "\n",
    "1. Numpy\n",
    "2. Matplotlib\n",
    "3. Pandas\n",
    "4. Scikit-learn\n",
    "5. Pltoly"
   ]
  },
  {
   "cell_type": "markdown",
   "id": "67a90154-8db9-4479-beda-0cee6e8d2b05",
   "metadata": {},
   "source": [
    "| Data |\n",
    "| ---- |\n",
    "| RStudio |\n",
    "| Apache Spark |\n",
    "| TensorFlow |"
   ]
  },
  {
   "cell_type": "markdown",
   "id": "efa0f07a-92d2-4c85-8eb6-44febfdbecf8",
   "metadata": {},
   "source": [
    "### Below are a few examples of evaluating expressions in Python"
   ]
  },
  {
   "cell_type": "code",
   "execution_count": 15,
   "id": "8a52a666-e21d-456c-94e9-b667cbe009fe",
   "metadata": {
    "tags": []
   },
   "outputs": [
    {
     "data": {
      "text/plain": [
       "17"
      ]
     },
     "execution_count": 15,
     "metadata": {},
     "output_type": "execute_result"
    }
   ],
   "source": [
    "# This is a simple arithmatic expression to multiply then add integers\n",
    "(3*4)+5"
   ]
  },
  {
   "cell_type": "code",
   "execution_count": 17,
   "id": "acff494a-e736-4b2d-b729-7872fc3bc746",
   "metadata": {
    "tags": []
   },
   "outputs": [
    {
     "data": {
      "text/plain": [
       "3.3333333333333335"
      ]
     },
     "execution_count": 17,
     "metadata": {},
     "output_type": "execute_result"
    }
   ],
   "source": [
    "# This will convert 200 minutes to hours by dividing by 60 \n",
    "\n",
    "200/60"
   ]
  },
  {
   "cell_type": "markdown",
   "id": "d3e925a9-cdb6-4fff-be3c-0271d425bd9f",
   "metadata": {},
   "source": [
    "## Author\n",
    "\n",
    "Geoffrey Day"
   ]
  },
  {
   "cell_type": "code",
   "execution_count": null,
   "id": "c0f16bb5-c145-4831-8c59-290b0fbf26ee",
   "metadata": {},
   "outputs": [],
   "source": []
  }
 ],
 "metadata": {
  "kernelspec": {
   "display_name": "Python 3 (ipykernel)",
   "language": "python",
   "name": "python3"
  },
  "language_info": {
   "codemirror_mode": {
    "name": "ipython",
    "version": 3
   },
   "file_extension": ".py",
   "mimetype": "text/x-python",
   "name": "python",
   "nbconvert_exporter": "python",
   "pygments_lexer": "ipython3",
   "version": "3.11.7"
  }
 },
 "nbformat": 4,
 "nbformat_minor": 5
}
